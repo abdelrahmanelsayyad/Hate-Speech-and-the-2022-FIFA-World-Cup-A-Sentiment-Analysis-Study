{
  "nbformat": 4,
  "nbformat_minor": 0,
  "metadata": {
    "colab": {
      "provenance": []
    },
    "kernelspec": {
      "name": "python3",
      "display_name": "Python 3"
    },
    "language_info": {
      "name": "python"
    }
  },
  "cells": [
    {
      "cell_type": "code",
      "source": [
        "\n",
        "from transformers import pipeline\n",
        "\n",
        "# Load the classification pipeline\n",
        "generator = pipeline(model=\"cardiffnlp/twitter-roberta-base-sentiment\")\n",
        "\n",
        "# Convert your dataset into a list of strings\n",
        "text_samples = ['@SchummelpiIz @covertschreb old south arabian i know is unrelated to socotri and stuff but old azeri is dead?']\n",
        "\n",
        "# Use the pipeline to classify the text samples\n",
        "predictions = generator(text_samples, max_length=512)\n",
        "\n",
        "# Print the classification results\n",
        "for prediction in predictions:\n",
        "    print(prediction)"
      ],
      "metadata": {
        "colab": {
          "base_uri": "https://localhost:8080/"
        },
        "id": "Mn8ylDRT8VLe",
        "outputId": "c6bfb929-d27e-4b68-8485-c4e74495648d"
      },
      "execution_count": null,
      "outputs": [
        {
          "output_type": "stream",
          "name": "stderr",
          "text": [
            "Truncation was not explicitly activated but `max_length` is provided a specific value, please use `truncation=True` to explicitly truncate examples to max length. Defaulting to 'longest_first' truncation strategy. If you encode pairs of sequences (GLUE-style) with the tokenizer you can select this strategy more precisely by providing a specific strategy to `truncation`.\n"
          ]
        },
        {
          "output_type": "stream",
          "name": "stdout",
          "text": [
            "{'label': 'LABEL_1', 'score': 0.911122739315033}\n"
          ]
        }
      ]
    }
  ]
}